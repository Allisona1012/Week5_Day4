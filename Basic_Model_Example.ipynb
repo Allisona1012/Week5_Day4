{
 "cells": [
  {
   "cell_type": "code",
   "execution_count": 8,
   "id": "a4cbf2e2",
   "metadata": {},
   "outputs": [],
   "source": [
    "class Seller:\n",
    "    id_serial = 1\n",
    "    _all = []\n",
    "    \n",
    "    def __init__(self, first, last, address, email, prime=False):\n",
    "        self.customer_id = Customer.id_serial\n",
    "        Seller.id_serial += 1\n",
    "        self.first_name = first\n",
    "        self.last_name = last\n",
    "        self.addres = address\n",
    "        self.email = email\n",
    "        self.prime_member = prime\n",
    "        Seller._all.append(self)\n",
    "        \n",
    "    def __str__(self):\n",
    "        return f'{self.first_name} {self.last_name}'\n",
    "    \n",
    "    def __repr__(self):\n",
    "        return f'<Seller {self.customer_id}|{self.first_name} {self.last_name}>'\n",
    "    \n",
    "    \n",
    "    \n",
    "    \n",
    "class Product:\n",
    "    id_serial = 1\n",
    "    _all = []\n",
    "    \n",
    "    def __init__(self, name, desc, price, seller):\n",
    "        self.prod_id = Product.id_serial\n",
    "        Product.id_serial += 1\n",
    "        self.name = name\n",
    "        self.description = desc\n",
    "        self.price = price\n",
    "        self.seller = seller\n",
    "        Product._all.append(self)\n",
    "        \n",
    "    def __str__(self):\n",
    "        return f\"{self.name}\"\n",
    "    \n",
    "    def __repr__(self):\n",
    "        return f\"<Product {self.product_id}|{self.name}>\"\n",
    "        \n",
    "        \n",
    "        \n",
    "        \n",
    "seller1 = Seller('Brian', 'Stanton', '555 Circle Drive', 'brians@ct.com')\n",
    "seller2 = Seller('Justin', 'Fields', '1450 S Lake Shore Dr', 'qb1@bears.com', True)\n",
    "prod1 = Product('Wallet', 'Keep track of your most valuable items all in one leather thing', 19.99, seller1)\n",
    "prod2 = Product('Notebook', 'Keep track of your most valuable thoughts all in one paper thing', 91.11, seller2)"
   ]
  },
  {
   "cell_type": "code",
   "execution_count": 9,
   "id": "b82c7257",
   "metadata": {},
   "outputs": [
    {
     "data": {
      "text/plain": [
       "'\\nSELECT *\\nFROM Seller\\nJOIN product\\nON seller.seller_id = product.product_id\\nWHERE product_id = 1\\n\\n'"
      ]
     },
     "execution_count": 9,
     "metadata": {},
     "output_type": "execute_result"
    }
   ],
   "source": [
    "'''\n",
    "SELECT *\n",
    "FROM Seller\n",
    "JOIN product\n",
    "ON seller.seller_id = product.product_id\n",
    "WHERE product_id = 1\n",
    "\n",
    "'''"
   ]
  },
  {
   "cell_type": "code",
   "execution_count": null,
   "id": "05cb38d2",
   "metadata": {},
   "outputs": [],
   "source": [
    "def run():\n",
    "    while True:\n",
    "        ask = input('What would you like to do: 1. Sign Up 2. Sign in').lower().strip()\n",
    "        while ask not in {'1','2','quit'}:\n",
    "            ask == input('please enter a valid answer')\n",
    "        if ask == 'quit':\n",
    "            break\n",
    "        elif ask == '1':\n",
    "            first = input(\"What is your first name? \")\n",
    "            last = input ('What is your last name? ')\n",
    "            address = input('What is your current address? ')\n",
    "            email= input('What is your email address? ')\n",
    "            new_seller = Seller(first,last,address,email)\n",
    "            \n",
    "run()"
   ]
  },
  {
   "cell_type": "code",
   "execution_count": null,
   "id": "031856d9",
   "metadata": {},
   "outputs": [],
   "source": []
  }
 ],
 "metadata": {
  "kernelspec": {
   "display_name": "Python 3 (ipykernel)",
   "language": "python",
   "name": "python3"
  },
  "language_info": {
   "codemirror_mode": {
    "name": "ipython",
    "version": 3
   },
   "file_extension": ".py",
   "mimetype": "text/x-python",
   "name": "python",
   "nbconvert_exporter": "python",
   "pygments_lexer": "ipython3",
   "version": "3.9.7"
  }
 },
 "nbformat": 4,
 "nbformat_minor": 5
}
